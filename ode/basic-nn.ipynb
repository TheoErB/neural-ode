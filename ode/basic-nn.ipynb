{
 "cells": [
  {
   "cell_type": "code",
   "execution_count": 2,
   "id": "57491985",
   "metadata": {},
   "outputs": [
    {
     "name": "stdout",
     "output_type": "stream",
     "text": [
      "\u001b[2mResolved \u001b[1m43 packages\u001b[0m \u001b[2min 2ms\u001b[0m\u001b[0m\n",
      "\u001b[2mAudited \u001b[1m42 packages\u001b[0m \u001b[2min 0.19ms\u001b[0m\u001b[0m\n"
     ]
    }
   ],
   "source": [
    "! uv add pyDOE"
   ]
  },
  {
   "cell_type": "code",
   "execution_count": 3,
   "id": "1ae96d5f",
   "metadata": {},
   "outputs": [
    {
     "name": "stderr",
     "output_type": "stream",
     "text": [
      "/home/theodorb/Documents/git-theoerb/neural-ode/.venv/lib/python3.12/site-packages/pyDOE/doe_factorial.py:192: SyntaxWarning: invalid escape sequence '\\-'\n",
      "  A = [item for item in re.split('\\-?\\s?\\+?', gen) if item]  # remove empty strings\n"
     ]
    },
    {
     "name": "stdout",
     "output_type": "stream",
     "text": [
      "cpu\n"
     ]
    }
   ],
   "source": [
    "import torch\n",
    "import torch.autograd as autograd         # computation graph\n",
    "from torch import Tensor                  # tensor node in the computation graph\n",
    "import torch.nn as nn                     # neural networks\n",
    "import torch.optim as optim               # optimizers e.g. gradient descent, ADAM, etc.\n",
    "\n",
    "import matplotlib.pyplot as plt\n",
    "import matplotlib.gridspec as gridspec\n",
    "from mpl_toolkits.axes_grid1 import make_axes_locatable\n",
    "from mpl_toolkits.mplot3d import Axes3D\n",
    "import matplotlib.ticker\n",
    "from sklearn.model_selection import train_test_split\n",
    "\n",
    "import numpy as np\n",
    "import time\n",
    "from pyDOE import lhs         #Latin Hypercube Sampling\n",
    "import scipy.io\n",
    "\n",
    "#Set default dtype to float32\n",
    "torch.set_default_dtype(torch.float)\n",
    "\n",
    "#PyTorch random number generator\n",
    "torch.manual_seed(1234)\n",
    "\n",
    "# Random number generators in other libraries\n",
    "np.random.seed(1234)\n",
    "\n",
    "# Device configuration\n",
    "device = torch.device('cuda' if torch.cuda.is_available() else 'cpu')\n",
    "\n",
    "print(device)\n",
    "\n",
    "if device == 'cuda': \n",
    "    print(torch.cuda.get_device_name()) "
   ]
  },
  {
   "cell_type": "code",
   "execution_count": 4,
   "id": "89547076",
   "metadata": {},
   "outputs": [
    {
     "name": "stdout",
     "output_type": "stream",
     "text": [
      "cpu\n"
     ]
    }
   ],
   "source": [
    "# Device configuration\n",
    "device = torch.device('cuda' if torch.cuda.is_available() else 'cpu')\n",
    "\n",
    "print(device)\n",
    "\n",
    "if device == 'cuda': \n",
    "    print(torch.cuda.get_device_name()) \n",
    "    "
   ]
  },
  {
   "cell_type": "code",
   "execution_count": 5,
   "id": "053eca12",
   "metadata": {},
   "outputs": [],
   "source": [
    "steps=20000\n",
    "lr=1e-3\n",
    "     \n",
    "\n",
    "\n",
    "def f(x):\n",
    "    y=torch.sin(x)\n",
    "    return y\n",
    "class FCN(nn.Module):\n",
    "    \n",
    "    def __init__(self,layers):\n",
    "        super().__init__() #call __init__ from parent class \n",
    "              \n",
    "        'activation function'\n",
    "        self.activation = nn.Tanh()\n",
    "\n",
    "        'loss function'\n",
    "        self.loss_function = nn.MSELoss(reduction ='mean')\n",
    "    \n",
    "        'Initialise neural network as a list using nn.Modulelist'  \n",
    "        self.linears = nn.ModuleList([nn.Linear(layers[i], layers[i+1]) for i in range(len(layers)-1)])\n",
    "        \n",
    "        self.iter = 0\n",
    "        \n",
    "        'Xavier Normal Initialization'\n",
    "        # std = gain * sqrt(2/(input_dim+output_dim))\n",
    "        for i in range(len(layers)-1):\n",
    "            \n",
    "            # weights from a normal distribution with \n",
    "            # Recommended gain value for tanh = 5/3?\n",
    "            nn.init.xavier_normal_(self.linears[i].weight.data, gain=1.0)\n",
    "            \n",
    "            # set biases to zero\n",
    "            nn.init.zeros_(self.linears[i].bias.data)\n",
    "            \n",
    "    'foward pass'\n",
    "    def forward(self,x):\n",
    "        \n",
    "        if torch.is_tensor(x) != True:         \n",
    "            x = torch.from_numpy(x)                \n",
    "        a = x.float()\n",
    "        for i in range(len(layers)-2):\n",
    "            \n",
    "            z = self.linears[i](a)\n",
    "                        \n",
    "            a = self.activation(z)\n",
    "            \n",
    "        a = self.linears[-1](a)\n",
    "        \n",
    "        return a\n",
    "\n",
    "    def lossNN(self,x,y):\n",
    "      loss_val=self.loss_function(self.forward(x),y)\n",
    "      return loss_val\n",
    "\n",
    "    def closure(self):\n",
    "        \n",
    "        optimizer.zero_grad()\n",
    "        \n",
    "        loss = self.lossNN(x_train, y_train)\n",
    "        \n",
    "        loss.backward()\n",
    "                \n",
    "        self.iter += 1\n",
    "        \n",
    "        if self.iter % 100 == 0:\n",
    "        \n",
    "            print(loss)\n",
    "\n",
    "        return loss   "
   ]
  },
  {
   "cell_type": "code",
   "execution_count": 6,
   "id": "b970e72e",
   "metadata": {},
   "outputs": [
    {
     "name": "stdout",
     "output_type": "stream",
     "text": [
      "torch.Size([500, 1]) torch.Size([500, 1])\n"
     ]
    },
    {
     "data": {
      "image/png": "[encoded data removed]",
      "text/plain": [
       "<Figure size 640x480 with 1 Axes>"
      ]
     },
     "metadata": {},
     "output_type": "display_data"
    }
   ],
   "source": [
    "# get the analytical solution over the full domain\n",
    "x = torch.linspace(0,2*np.pi,500).view(-1,1) #prepare to NN\n",
    "y = f(x)\n",
    "print(x.shape, y.shape)\n",
    "\n",
    "fig, ax1 = plt.subplots()\n",
    "ax1.plot(x.detach().numpy(),y.detach().numpy(),color='blue',label='Real_Train')\n",
    "#ax1.plot(x_train.detach().numpy(),yh.detach().numpy(),color='red',label='Pred_Train')\n",
    "ax1.set_xlabel('x',color='black')\n",
    "ax1.set_ylabel('f(x)',color='black')\n",
    "ax1.tick_params(axis='y', color='black')\n",
    "ax1.legend(loc = 'upper left')\n",
    "\n",
    "indices=np.arange(500)\n",
    "\n",
    "train_idx,test_idx, _,_ = train_test_split(indices, indices, test_size=0.2, random_state=42)\n",
    "     \n",
    "x_train=x[train_idx]\n",
    "y_train=y[train_idx]\n",
    "x_test=x[test_idx]\n",
    "y_test=y[test_idx]\n",
    "     \n",
    "\n",
    "     "
   ]
  },
  {
   "cell_type": "code",
   "execution_count": null,
   "id": "e148edeb",
   "metadata": {},
   "outputs": [],
   "source": [
    "\n",
    "\n",
    "torch.manual_seed(123)\n",
    "x_train=x_train.float().to(device)\n",
    "y_train=y_train.float().to(device)\n",
    "layers = np.array([1,50,50,20,50,50,1]) #5 hidden layers\n",
    "model = FCN(layers)\n",
    "print(model)\n",
    "model.to(device)\n",
    "params = list(model.parameters())\n",
    "optimizer = torch.optim.Adam(model.parameters(),lr=lr,amsgrad=False)\n",
    "start_time = time.time()\n",
    "\n",
    "\n",
    "\n",
    "yh=model(x_train)\n",
    "yh_test=model(x_test.float().to(device))\n",
    "     \n",
    "\n",
    "_,indices2=torch.sort(x_train.squeeze(1))\n",
    "_,indices3=torch.sort(x_test.squeeze(1))\n",
    "     \n",
    "\n",
    "x_train_plot=x_train[indices2]\n",
    "y_train_plot=y_train[indices2]\n",
    "yh_plot=yh[indices2]\n",
    "x_test_plot=x_test[indices3]\n",
    "y_test_plot=y_test[indices3]\n",
    "yh_test_plot=yh_test[indices3]\n",
    "     \n",
    "\n",
    "fig, ax1 = plt.subplots()\n",
    "ax1.plot(x_train_plot.detach().cpu().numpy(),y_train_plot.detach().cpu().numpy(),color='blue',label='Real_Train')\n",
    "ax1.plot(x_train_plot.detach().cpu().numpy(),yh_plot.detach().cpu().numpy(),color='red',label='Pred_Train')\n",
    "#ax1.plot(x_test_plot.detach().numpy(),y_test_plot.detach().numpy(),color='green',label='Real_Test')\n",
    "#ax1.plot(x_test_plot.detach().numpy(),yh_test_plot.detach().numpy(),color='orange',label='Pred_Test')\n",
    "ax1.set_xlabel('x',color='black')\n",
    "ax1.set_ylabel('f(x)',color='black')\n",
    "ax1.tick_params(axis='y', color='black')\n",
    "ax1.legend(loc = 'upper left')\n",
    "     \n"
   ]
  }
 ],
 "metadata": {
  "kernelspec": {
   "display_name": "neural-ode",
   "language": "python",
   "name": "python3"
  },
  "language_info": {
   "codemirror_mode": {
    "name": "ipython",
    "version": 3
   },
   "file_extension": ".py",
   "mimetype": "text/x-python",
   "name": "python",
   "nbconvert_exporter": "python",
   "pygments_lexer": "ipython3",
   "version": "3.12.3"
  }
 },
 "nbformat": 4,
 "nbformat_minor": 5
}
